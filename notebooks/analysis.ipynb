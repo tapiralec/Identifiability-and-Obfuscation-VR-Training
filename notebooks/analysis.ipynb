{
 "cells": [
  {
   "cell_type": "code",
   "execution_count": 1,
   "outputs": [],
   "source": [
    "import pandas as pd\n",
    "import numpy as np\n",
    "from glob import glob\n",
    "import importlib\n",
    "import agm_util.dataloader as dataloader\n",
    "importlib.reload(dataloader)\n",
    "import agm_util.agmlearn as agmlearn\n",
    "importlib.reload(agmlearn)\n",
    "from multiprocessing import Pool\n",
    "import pickle\n",
    "from ipywidgets import FloatProgress\n",
    "from multiprocessing import Pool\n",
    "import itertools\n",
    "\n",
    "PIDs = dataloader.GetPIDs(\"Data/Results with expert times (2).xlsx\",range(2,62))"
   ],
   "metadata": {
    "collapsed": false,
    "pycharm": {
     "name": "#%%\n"
    }
   }
  },
  {
   "cell_type": "code",
   "execution_count": null,
   "outputs": [],
   "source": [
    "import matplotlib.pyplot as plt\n",
    "#%pylab inline"
   ],
   "metadata": {
    "collapsed": false,
    "pycharm": {
     "name": "#%%\n"
    }
   }
  },
  {
   "cell_type": "code",
   "execution_count": null,
   "outputs": [],
   "source": [
    "LearningVel = dataloader.GetVelocityData('Data/VelocityRoom/Learning_deltaT',PIDs)\n",
    "PracticeVel = dataloader.GetVelocityData('Data/VelocityRoom/Practice_deltaT',PIDs)\n",
    "LearningPos = dataloader.GetPositionData('Data/Position/motionLearning/',PIDs)\n",
    "PracticePos = dataloader.GetPositionData('Data/Position/motionPractice/',PIDs)\n",
    "\n",
    "LVfea = dataloader.ProcessToFeaturized(LearningVel)\n",
    "PVfea = dataloader.ProcessToFeaturized(PracticeVel)\n",
    "LPfea = dataloader.ProcessToFeaturized(LearningPos)\n",
    "PPfea = dataloader.ProcessToFeaturized(PracticePos)"
   ],
   "metadata": {
    "collapsed": false,
    "pycharm": {
     "name": "#%%\n"
    }
   }
  },
  {
   "cell_type": "code",
   "execution_count": null,
   "outputs": [],
   "source": [
    "pickle.dump((LVfea, PVfea, LPfea, PPfea),open('Pickles/FeatureVectors/cleananalysis.pkl','wb'))\n",
    "#LVfea,PVfea,LPfea,PPfea = pickle.load(open('Pickles/FeatureVectors/cleananalysis.pkl','rb'))"
   ],
   "metadata": {
    "collapsed": false,
    "pycharm": {
     "name": "#%%\n"
    }
   }
  },
  {
   "cell_type": "code",
   "execution_count": null,
   "outputs": [],
   "source": [
    "LVfea,PVfea,LPfea,PPfea = pickle.load(open('Pickles/FeatureVectors/cleananalysis.pkl','rb'))"
   ],
   "metadata": {
    "collapsed": false,
    "pycharm": {
     "name": "#%%\n"
    }
   }
  },
  {
   "cell_type": "markdown",
   "source": [
    "## train Leave-One-Out position classifiers"
   ],
   "metadata": {
    "collapsed": false
   }
  },
  {
   "cell_type": "code",
   "execution_count": null,
   "outputs": [],
   "source": [
    "inoutpairs = dataloader.GetOrLoadLeaveOneOuts('start.pkl')"
   ],
   "metadata": {
    "collapsed": false,
    "pycharm": {
     "name": "#%%\n"
    }
   }
  },
  {
   "cell_type": "code",
   "execution_count": null,
   "outputs": [],
   "source": [
    "##Here is what training leave-one-out classifierss looks like single-threaded.\n",
    "#for i,(dftrain,dfpred) in enumerate(inoutpairs):\n",
    "#    agmlearn.BatteryTest('kNN',[3],'Pos',(i,(dftrain,dfpred)))\n",
    "#    break"
   ],
   "metadata": {
    "collapsed": false,
    "pycharm": {
     "name": "#%%\n"
    }
   }
  },
  {
   "cell_type": "code",
   "execution_count": null,
   "outputs": [],
   "source": [
    "for k in range(3,10):\n",
    "    with Pool(8) as p:\n",
    "        p.starmap(agmlearn.BatteryTest,itertools.product(['kNN'],[[k]],['Normpos'],enumerate(agmlearn.NormalizeList(inoutpairs))))"
   ],
   "metadata": {
    "collapsed": false,
    "pycharm": {
     "name": "#%%\n"
    }
   }
  },
  {
   "cell_type": "code",
   "execution_count": null,
   "outputs": [],
   "source": [
    "with Pool(8) as p:\n",
    "    p.starmap(agmlearn.BatteryTest,itertools.product(['RF'],[[0]],['pos'],enumerate(inoutpairs)))"
   ],
   "metadata": {
    "collapsed": false,
    "pycharm": {
     "name": "#%%\n"
    }
   }
  },
  {
   "cell_type": "code",
   "execution_count": null,
   "outputs": [],
   "source": [
    "with Pool(8) as p:\n",
    "    p.starmap(agmlearn.BatteryTest,itertools.product(['GBM'],[[0]],['pos'],enumerate(inoutpairs)))"
   ],
   "metadata": {
    "collapsed": false,
    "pycharm": {
     "name": "#%%\n"
    }
   }
  },
  {
   "cell_type": "code",
   "execution_count": null,
   "outputs": [],
   "source": [
    "with Pool(8) as p:\n",
    "    p.starmap(agmlearn.BatteryTest,itertools.product(['gbm2'],[[0]],['pos'],enumerate(inoutpairs)))"
   ],
   "metadata": {
    "collapsed": false,
    "pycharm": {
     "name": "#%%\n"
    }
   }
  },
  {
   "cell_type": "markdown",
   "source": [
    "## Train Leave-One-Out Position classifiers on Practice session"
   ],
   "metadata": {
    "collapsed": false
   }
  },
  {
   "cell_type": "code",
   "execution_count": null,
   "outputs": [],
   "source": [
    "PPinoutpairs = dataloader.GetOrLoadLeaveOneOuts('pracpos_leaveoneout.pkl',PPfea)"
   ],
   "metadata": {
    "collapsed": false,
    "pycharm": {
     "name": "#%%\n"
    }
   }
  },
  {
   "cell_type": "code",
   "execution_count": null,
   "outputs": [],
   "source": [
    "for k in range(3,10):\n",
    "    with Pool(8) as p:\n",
    "        p.starmap(agmlearn.BatteryTest,itertools.product(['kNN'],[[k]],['p_pp'],enumerate(agmlearn.NormalizeList(PPinoutpairs))))"
   ],
   "metadata": {
    "collapsed": false,
    "pycharm": {
     "name": "#%%\n"
    }
   }
  },
  {
   "cell_type": "code",
   "execution_count": null,
   "outputs": [],
   "source": [
    "from glob import glob\n",
    "for k in range(3,10):\n",
    "    files = glob(f'agm_util/predcache/*knn[[]{k}[]]*p_pp*')\n",
    "    corr = []\n",
    "    for f in files:\n",
    "        corr.append(agmlearn.EvaluatePrediction(pd.read_csv(f),groups=['PID']).Correct.mean())\n",
    "    print(f'{k}NN: average correct IDs over participants:{np.mean(corr)}')"
   ],
   "metadata": {
    "collapsed": false,
    "pycharm": {
     "name": "#%%\n"
    }
   }
  },
  {
   "cell_type": "code",
   "execution_count": null,
   "outputs": [],
   "source": [
    "with Pool(10) as p:\n",
    "    p.starmap(agmlearn.BatteryTest,itertools.product(['RF'],[[0]],['p_pp'],enumerate(PPinoutpairs)))"
   ],
   "metadata": {
    "collapsed": false,
    "pycharm": {
     "name": "#%%\n"
    }
   }
  },
  {
   "cell_type": "code",
   "execution_count": null,
   "outputs": [],
   "source": [
    "with Pool(10) as p:\n",
    "    p.starmap(agmlearn.BatteryTest,itertools.product(['GBM'],[[0]],['p_pp'],enumerate(PPinoutpairs)))"
   ],
   "metadata": {
    "collapsed": false,
    "pycharm": {
     "name": "#%%\n"
    }
   }
  },
  {
   "cell_type": "markdown",
   "source": [
    "## View Leave-One-Out prediction accuracy on Position."
   ],
   "metadata": {
    "collapsed": false
   }
  },
  {
   "cell_type": "code",
   "execution_count": null,
   "outputs": [],
   "source": [
    "from glob import glob\n",
    "for k in range(3,10):\n",
    "    files = glob(f'agm_util/predcache/*knn[[]{k}[]]*Normpos*')\n",
    "    corr = []\n",
    "    for f in files:\n",
    "        corr.append(agmlearn.EvaluatePrediction(pd.read_csv(f),groups=['PID']).Correct.mean())\n",
    "    print(f'{k}NN: average correct IDs over participants:{np.mean(corr)}')"
   ],
   "metadata": {
    "collapsed": false,
    "pycharm": {
     "name": "#%%\n"
    }
   }
  },
  {
   "cell_type": "code",
   "execution_count": null,
   "outputs": [],
   "source": [
    "for i in range(1):\n",
    "    corr = []\n",
    "    for f in glob(f'agm_util/predcache/*RF*pos.csv'):\n",
    "        corr.append(agmlearn.EvaluatePrediction(pd.read_csv(f),groups=['PID']).Correct.mean())\n",
    "    print(f'RF: average correct IDs over participants: {np.mean(corr)}')"
   ],
   "metadata": {
    "collapsed": false,
    "pycharm": {
     "name": "#%%\n"
    }
   }
  },
  {
   "cell_type": "code",
   "execution_count": null,
   "outputs": [],
   "source": [
    "for i in range(1):\n",
    "    corr = []\n",
    "    for f in glob(f'agm_util/predcache/*GBM*pos.csv'):\n",
    "        corr.append(agmlearn.EvaluatePrediction(pd.read_csv(f),groups=['PID']).Correct.mean())\n",
    "    print(f'GBM: average correct IDs over participants: {np.mean(corr)}')"
   ],
   "metadata": {
    "collapsed": false,
    "pycharm": {
     "name": "#%%\n"
    }
   }
  },
  {
   "cell_type": "code",
   "execution_count": null,
   "outputs": [],
   "source": [
    "#create plot:\n",
    "def getcorr(s):\n",
    "    corr = []\n",
    "    for f in glob(f'agm_util/predcache/{s}'):\n",
    "        evaluated = agmlearn.EvaluatePrediction(pd.read_csv(f),groups=['PID'])\n",
    "        corr.append(evaluated.Correct.mean())\n",
    "    return corr\n",
    "\n",
    "LPcorr = pd.DataFrame()\n",
    "LPcorr['knn']= getcorr('*knn[[]3[]]*Normpos*')\n",
    "LPcorr['RF'] = getcorr('*RF*pos.csv')\n",
    "LPcorr['GBM'] = getcorr('*GBM*pos.csv')\n",
    "LPcorr['gbm2'] = getcorr('*gbm2*pos.csv')\n",
    "\n",
    "LPcorr.to_csv('LPcorrectPredictionAverages.csv',index=None)"
   ],
   "metadata": {
    "collapsed": false,
    "pycharm": {
     "name": "#%%\n"
    }
   }
  },
  {
   "cell_type": "markdown",
   "source": [
    "## View Practice-session prediction accuracy on Position"
   ],
   "metadata": {
    "collapsed": false
   }
  },
  {
   "cell_type": "code",
   "execution_count": null,
   "outputs": [],
   "source": [
    "knnclf = agmlearn.MakeClassifier('kNN',LPfea,[3])\n"
   ],
   "metadata": {
    "collapsed": false,
    "pycharm": {
     "name": "#%%\n"
    }
   }
  },
  {
   "cell_type": "code",
   "execution_count": null,
   "outputs": [],
   "source": [
    "knnPracPred = agmlearn.GetOrLoadPrediction(knnclf,PPfea,'knn3PracticePos.csv')\n",
    "#agmlearn.LoadPrediction('knn3PracticePos.csv')\n",
    "agmlearn.EvaluatePrediction(knnPracPred,groups=['PID']).Correct.mean()"
   ],
   "metadata": {
    "collapsed": false,
    "pycharm": {
     "name": "#%%\n"
    }
   }
  },
  {
   "cell_type": "code",
   "execution_count": null,
   "outputs": [],
   "source": [
    "knnPracPred = agmlearn.LoadPrediction('knn3PracticePos.csv')"
   ],
   "metadata": {
    "collapsed": false,
    "pycharm": {
     "name": "#%%\n"
    }
   }
  },
  {
   "cell_type": "code",
   "execution_count": null,
   "outputs": [],
   "source": [
    "agmlearn.EvaluatePrediction(knnPracPred).Correct.groupby('subphaseID').sum().max()/60"
   ],
   "metadata": {
    "collapsed": false,
    "pycharm": {
     "name": "#%%\n"
    }
   }
  },
  {
   "cell_type": "code",
   "execution_count": null,
   "outputs": [],
   "source": [
    "rfclf = agmlearn.MakeClassifier('RF',LPfea)\n",
    "rfPracPred = agmlearn.GetOrLoadPrediction(rfclf,PPfea,'RFPracticePos.csv')"
   ],
   "metadata": {
    "collapsed": false,
    "pycharm": {
     "name": "#%%\n"
    }
   }
  },
  {
   "cell_type": "code",
   "execution_count": null,
   "outputs": [],
   "source": [
    "agmlearn.EvaluatePrediction(rfPracPred,groups=['PID']).Correct.mean()"
   ],
   "metadata": {
    "collapsed": false,
    "pycharm": {
     "name": "#%%\n"
    }
   }
  },
  {
   "cell_type": "code",
   "execution_count": null,
   "outputs": [],
   "source": [
    "rfPracPred = agmlearn.LoadPrediction('RFPracticePos.csv')"
   ],
   "metadata": {
    "collapsed": false,
    "pycharm": {
     "name": "#%%\n"
    }
   }
  },
  {
   "cell_type": "code",
   "execution_count": null,
   "outputs": [],
   "source": [
    "agmlearn.EvaluatePrediction(rfPracPred).Correct.groupby('subphaseID').sum().max()/60"
   ],
   "metadata": {
    "collapsed": false,
    "pycharm": {
     "name": "#%%\n"
    }
   }
  },
  {
   "cell_type": "code",
   "execution_count": null,
   "outputs": [],
   "source": [
    "gbmclf = agmlearn.MakeClassifier('GBM',LPfea)\n",
    "gbmPracPred = agmlearn.GetOrLoadPrediction(gbmclf,PPfea,'GBMPracticePos.csv')"
   ],
   "metadata": {
    "collapsed": false,
    "pycharm": {
     "name": "#%%\n"
    }
   }
  },
  {
   "cell_type": "code",
   "execution_count": null,
   "outputs": [],
   "source": [
    "agmlearn.EvaluatePrediction(gbmPracPred,groups=['PID']).Correct.mean()"
   ],
   "metadata": {
    "collapsed": false,
    "pycharm": {
     "name": "#%%\n"
    }
   }
  },
  {
   "cell_type": "code",
   "execution_count": null,
   "outputs": [],
   "source": [
    "gbmPracPred = agmlearn.LoadPrediction('GBMPracticePos.csv')"
   ],
   "metadata": {
    "collapsed": false,
    "pycharm": {
     "name": "#%%\n"
    }
   }
  },
  {
   "cell_type": "code",
   "execution_count": null,
   "outputs": [],
   "source": [
    "agmlearn.EvaluatePrediction(gbmPracPred).Correct.groupby('subphaseID').sum().max()/60"
   ],
   "metadata": {
    "collapsed": false,
    "pycharm": {
     "name": "#%%\n"
    }
   }
  },
  {
   "cell_type": "code",
   "execution_count": null,
   "outputs": [],
   "source": [
    "pickle.dump((knnPracPred,rfPracPred,gbmPracPred),open('Pickles/PracticeSessionClassifiers.pkl','wb'))"
   ],
   "metadata": {
    "collapsed": false,
    "pycharm": {
     "name": "#%%\n"
    }
   }
  },
  {
   "cell_type": "markdown",
   "source": [
    "## Backwards classifier"
   ],
   "metadata": {
    "collapsed": false
   }
  },
  {
   "cell_type": "code",
   "execution_count": null,
   "outputs": [],
   "source": [
    "from glob import glob\n",
    "for k in range(3,10):\n",
    "    files = glob(f'agm_util/predcache/*knn[[]{k}[]]*p_pp*')\n",
    "    corr = []\n",
    "    for f in files:\n",
    "        corr.append(agmlearn.EvaluatePrediction(pd.read_csv(f),groups=['PID']).Correct.mean())\n",
    "    print(f'{k}NN: average correct IDs over participants:{np.mean(corr)}')\n",
    "for i in range(1):\n",
    "    corr = []\n",
    "    for f in glob(f'agm_util/predcache/*RF*p_pp.csv'):\n",
    "        corr.append(agmlearn.EvaluatePrediction(pd.read_csv(f),groups=['PID']).Correct.mean())\n",
    "    print(f'RF: average correct IDs over participants: {np.mean(corr)}')\n",
    "for i in range(1):\n",
    "    corr = []\n",
    "    for f in glob(f'agm_util/predcache/*GBM*p_pp.csv'):\n",
    "        corr.append(agmlearn.EvaluatePrediction(pd.read_csv(f),groups=['PID']).Correct.mean())\n",
    "    print(f'GBM: average correct IDs over participants: {np.mean(corr)}')"
   ],
   "metadata": {
    "collapsed": false,
    "pycharm": {
     "name": "#%%\n"
    }
   }
  },
  {
   "cell_type": "code",
   "execution_count": null,
   "outputs": [],
   "source": [
    "def getcorr(s):\n",
    "    corr = []\n",
    "    for f in glob(f'agm_util/predcache/{s}'):\n",
    "        evaluated = agmlearn.EvaluatePrediction(pd.read_csv(f),groups=['PID'])\n",
    "        corr.append(evaluated.Correct.mean())\n",
    "    return corr\n",
    "\n",
    "LPcorr = pd.DataFrame()\n",
    "LPcorr['knn']= getcorr('*knn[[]3[]]*p_pp*')\n",
    "LPcorr['RF'] = getcorr('*RF*p_pp.csv')\n",
    "LPcorr['GBM'] = getcorr('*GBM*p_pp.csv')\n",
    "#LPcorr['gbm2'] = getcorr('*gbm2*pos.csv')\n",
    "\n",
    "LPcorr.to_csv('PPcorrectPredictionAverages.csv',index=None)"
   ],
   "metadata": {
    "collapsed": false,
    "pycharm": {
     "name": "#%%\n"
    }
   }
  },
  {
   "cell_type": "code",
   "execution_count": null,
   "outputs": [],
   "source": [
    "bknnclf = agmlearn.MakeClassifier('kNN',PPfea,[3])"
   ],
   "metadata": {
    "collapsed": false,
    "pycharm": {
     "name": "#%%\n"
    }
   }
  },
  {
   "cell_type": "code",
   "execution_count": null,
   "outputs": [],
   "source": [
    "bknnPracPred = agmlearn.GetOrLoadPrediction(bknnclf,LPfea,'knn3BackwardsPos.csv')\n",
    "#agmlearn.LoadPrediction('knn3BackwardsPos.csv')\n",
    "agmlearn.EvaluatePrediction(bknnPracPred,groups=['PID']).Correct.mean()"
   ],
   "metadata": {
    "collapsed": false,
    "pycharm": {
     "name": "#%%\n"
    }
   }
  },
  {
   "cell_type": "code",
   "execution_count": null,
   "outputs": [],
   "source": [
    "brfclf = agmlearn.MakeClassifier('RF',PPfea)"
   ],
   "metadata": {
    "collapsed": false,
    "pycharm": {
     "name": "#%%\n"
    }
   }
  },
  {
   "cell_type": "code",
   "execution_count": null,
   "outputs": [],
   "source": [
    "brfPracPred = agmlearn.GetOrLoadPrediction(brfclf,LPfea,'rfBackwardsPos.csv')\n",
    "agmlearn.EvaluatePrediction(brfPracPred,groups=['PID']).Correct.mean()"
   ],
   "metadata": {
    "collapsed": false,
    "pycharm": {
     "name": "#%%\n"
    }
   }
  },
  {
   "cell_type": "code",
   "execution_count": null,
   "outputs": [],
   "source": [
    "bgbmclf = agmlearn.MakeClassifier('GBM',PPfea)"
   ],
   "metadata": {
    "collapsed": false,
    "pycharm": {
     "name": "#%%\n"
    }
   }
  },
  {
   "cell_type": "code",
   "execution_count": null,
   "outputs": [],
   "source": [
    "#bgbmPracPred = agmlearn.GetOrLoadPrediction(bgbmclf,LPfea,'gbmBackwardsPos.csv')\n",
    "bgbmPracPred = agmlearn.LoadPrediction('gbmBackwardsPos.csv')\n",
    "agmlearn.EvaluatePrediction(bgbmPracPred,groups=['PID']).Correct.mean()"
   ],
   "metadata": {
    "collapsed": false,
    "pycharm": {
     "name": "#%%\n"
    }
   }
  },
  {
   "cell_type": "code",
   "execution_count": null,
   "outputs": [],
   "source": [
    "print('GBM avg',agmlearn.EvaluatePrediction(bgbmPracPred).Correct.mean())\n",
    "print('GBM min',agmlearn.EvaluatePrediction(bgbmPracPred).Correct.groupby('subphaseID').sum().min()/60)\n",
    "print('GBM max',agmlearn.EvaluatePrediction(bgbmPracPred).Correct.groupby('subphaseID').sum().max()/60)\n",
    "print('kNN avg',agmlearn.EvaluatePrediction(bknnPracPred).Correct.mean())\n",
    "print('kNN min',agmlearn.EvaluatePrediction(bknnPracPred).Correct.groupby('subphaseID').sum().min()/60)\n",
    "print('kNN max',agmlearn.EvaluatePrediction(bknnPracPred).Correct.groupby('subphaseID').sum().max()/60)\n",
    "print('RF avg',agmlearn.EvaluatePrediction(brfPracPred).Correct.mean())\n",
    "print('RF min',agmlearn.EvaluatePrediction(brfPracPred).Correct.groupby('subphaseID').sum().min()/60)\n",
    "print('RF max',agmlearn.EvaluatePrediction(brfPracPred).Correct.groupby('subphaseID').sum().max()/60)"
   ],
   "metadata": {
    "collapsed": false,
    "pycharm": {
     "name": "#%%\n"
    }
   }
  },
  {
   "cell_type": "markdown",
   "source": [
    "## Train Leave-One-Out velocity classifiers."
   ],
   "metadata": {
    "collapsed": false
   }
  },
  {
   "cell_type": "code",
   "execution_count": null,
   "outputs": [],
   "source": [
    "#Vinoutpairs = dataloader.GetOrLoadLeaveOneOuts('velpairs.pkl',LVfea)\n",
    "Vinoutpairs = dataloader.GetOrLoadLeaveOneOuts('velpairs.pkl')"
   ],
   "metadata": {
    "collapsed": false,
    "pycharm": {
     "name": "#%%\n"
    }
   }
  },
  {
   "cell_type": "code",
   "execution_count": null,
   "outputs": [],
   "source": [
    "for k in range(3,20):\n",
    "    with Pool(8) as p:\n",
    "        p.starmap(agmlearn.BatteryTest,itertools.product(['kNN'],[[k]],['Normvel'],enumerate(agmlearn.NormalizeList(Vinoutpairs))))"
   ],
   "metadata": {
    "collapsed": false,
    "pycharm": {
     "name": "#%%\n"
    }
   }
  },
  {
   "cell_type": "code",
   "execution_count": null,
   "outputs": [],
   "source": [
    "with Pool(8) as p:\n",
    "    p.starmap(agmlearn.BatteryTest,itertools.product(['RF'],[[0]],['vel'],enumerate(Vinoutpairs)))"
   ],
   "metadata": {
    "collapsed": false,
    "pycharm": {
     "name": "#%%\n"
    }
   }
  },
  {
   "cell_type": "code",
   "execution_count": null,
   "outputs": [],
   "source": [
    "with Pool(8) as p:\n",
    "    p.starmap(agmlearn.BatteryTest,itertools.product(['GBM'],[[0]],['vel'],enumerate(Vinoutpairs)))"
   ],
   "metadata": {
    "collapsed": false,
    "pycharm": {
     "name": "#%%\n"
    }
   }
  },
  {
   "cell_type": "markdown",
   "source": [
    "## View Leave-One-Out prediction accuracy on Velocity"
   ],
   "metadata": {
    "collapsed": false
   }
  },
  {
   "cell_type": "code",
   "execution_count": null,
   "outputs": [],
   "source": [
    "for k in range(3,20):\n",
    "    files = glob(f'agm_util/predcache/*knn[[]{k}[]]*Normvel*')\n",
    "    corr = []\n",
    "    for f in files:\n",
    "        corr.append(agmlearn.EvaluatePrediction(pd.read_csv(f),groups=['PID']).Correct.mean())\n",
    "    print(f'{k}NN: average correct IDs over participants:{np.mean(corr)}')"
   ],
   "metadata": {
    "collapsed": false,
    "pycharm": {
     "name": "#%%\n"
    }
   }
  },
  {
   "cell_type": "code",
   "execution_count": null,
   "outputs": [],
   "source": [
    "for i in range(1):\n",
    "    corr = []\n",
    "    for f in glob(f'agm_util/predcache/*RF*vel.csv'):\n",
    "        corr.append(agmlearn.EvaluatePrediction(pd.read_csv(f),groups=['PID']).Correct.mean())\n",
    "    print(f'RF: average correct IDs over participants: {np.mean(corr)}')\n",
    "    print(len(corr)"
   ],
   "metadata": {
    "collapsed": false,
    "pycharm": {
     "name": "#%%\n"
    }
   }
  },
  {
   "cell_type": "code",
   "execution_count": null,
   "outputs": [],
   "source": [
    "for i in range(1):\n",
    "    corr = []\n",
    "    for f in glob(f'agm_util/predcache/*GBM*vel.csv'):\n",
    "        corr.append(agmlearn.EvaluatePrediction(pd.read_csv(f),groups=['PID']).Correct.mean())\n",
    "    print(f'GBM: average correct IDs over participants: {np.mean(corr)}')\n",
    "    print(len(corr))"
   ],
   "metadata": {
    "collapsed": false,
    "pycharm": {
     "name": "#%%\n"
    }
   }
  },
  {
   "cell_type": "code",
   "execution_count": null,
   "outputs": [],
   "source": [
    "LVcorr = pd.DataFrame()\n",
    "LVcorr['knn']= getcorr('*knn[[]13[]]*Normvel*')\n",
    "LVcorr['RF'] = getcorr('*RF*vel.csv')\n",
    "LVcorr['GBM'] = getcorr('*GBM*vel.csv')\n",
    "LVcorr.to_csv('LVcorrectPredictionAverages.csv',index=None)"
   ],
   "metadata": {
    "collapsed": false,
    "pycharm": {
     "name": "#%%\n"
    }
   }
  },
  {
   "cell_type": "markdown",
   "source": [
    "## View Practice-session prediction accuracy on Velocity"
   ],
   "metadata": {
    "collapsed": false
   }
  },
  {
   "cell_type": "code",
   "execution_count": null,
   "outputs": [],
   "source": [
    "Vknnclf = agmlearn.MakeClassifier('kNN',LVfea,[13])"
   ],
   "metadata": {
    "collapsed": false,
    "pycharm": {
     "name": "#%%\n"
    }
   }
  },
  {
   "cell_type": "code",
   "execution_count": null,
   "outputs": [],
   "source": [
    "VknnPracPred = agmlearn.GetOrLoadPrediction(Vknnclf,PVfea,'knn3PracticeVel.csv')\n",
    "agmlearn.EvaluatePrediction(VknnPracPred,groups=['PID']).Correct.mean()"
   ],
   "metadata": {
    "collapsed": false,
    "pycharm": {
     "name": "#%%\n"
    }
   }
  },
  {
   "cell_type": "code",
   "execution_count": null,
   "outputs": [],
   "source": [
    "agmlearn.EvaluatePrediction(VknnPracPred).Correct.mean()"
   ],
   "metadata": {
    "collapsed": false,
    "pycharm": {
     "name": "#%%\n"
    }
   }
  },
  {
   "cell_type": "code",
   "execution_count": null,
   "outputs": [],
   "source": [
    "Vrfclf = agmlearn.MakeClassifier('RF',LVfea)\n",
    "VrfPracPred = agmlearn.GetOrLoadPrediction(Vrfclf,PVfea,'RFPracticeVel.csv')"
   ],
   "metadata": {
    "collapsed": false,
    "pycharm": {
     "name": "#%%\n"
    }
   }
  },
  {
   "cell_type": "code",
   "execution_count": null,
   "outputs": [],
   "source": [
    "agmlearn.EvaluatePrediction(VrfPracPred,groups=['PID']).Correct.mean()"
   ],
   "metadata": {
    "collapsed": false,
    "pycharm": {
     "name": "#%%\n"
    }
   }
  },
  {
   "cell_type": "code",
   "execution_count": null,
   "outputs": [],
   "source": [
    "agmlearn.EvaluatePrediction(VrfPracPred).Correct.mean()"
   ],
   "metadata": {
    "collapsed": false,
    "pycharm": {
     "name": "#%%\n"
    }
   }
  },
  {
   "cell_type": "code",
   "execution_count": null,
   "outputs": [],
   "source": [
    "Vgbmclf = agmlearn.MakeClassifier('GBM',LVfea)\n",
    "VgbmPracPred = agmlearn.GetOrLoadPrediction(Vgbmclf,PVfea,'GBMPracticeVel.csv')"
   ],
   "metadata": {
    "collapsed": false,
    "pycharm": {
     "name": "#%%\n"
    }
   }
  },
  {
   "cell_type": "code",
   "execution_count": null,
   "outputs": [],
   "source": [
    "agmlearn.EvaluatePrediction(VgbmPracPred,groups=['PID']).Correct.mean()"
   ],
   "metadata": {
    "collapsed": false,
    "pycharm": {
     "name": "#%%\n"
    }
   }
  },
  {
   "cell_type": "code",
   "execution_count": null,
   "outputs": [],
   "source": [
    "agmlearn.EvaluatePrediction(VgbmPracPred).Correct.mean()"
   ],
   "metadata": {
    "collapsed": false,
    "pycharm": {
     "name": "#%%\n"
    }
   }
  },
  {
   "cell_type": "code",
   "execution_count": null,
   "outputs": [],
   "source": [
    "VknnPracPred= agmlearn.LoadPrediction('knn3PracticeVel.csv')\n",
    "VrfPracPred = agmlearn.LoadPrediction('RFPracticeVel.csv')\n",
    "VgbmPracPred= agmlearn.LoadPrediction('GBMPracticeVel.csv')"
   ],
   "metadata": {
    "collapsed": false,
    "pycharm": {
     "name": "#%%\n"
    }
   }
  },
  {
   "cell_type": "code",
   "execution_count": null,
   "outputs": [],
   "source": [
    "print('knn',agmlearn.EvaluatePrediction(VknnPracPred).groupby('subphaseID').Correct.sum().min()/60)\n",
    "print('rf',agmlearn.EvaluatePrediction(VrfPracPred).groupby('subphaseID').Correct.sum().min()/60)\n",
    "print('gbm',agmlearn.EvaluatePrediction(VgbmPracPred).groupby('subphaseID').Correct.sum().min()/60)"
   ],
   "metadata": {
    "collapsed": false,
    "pycharm": {
     "name": "#%%\n"
    }
   }
  },
  {
   "cell_type": "markdown",
   "source": [
    "## Visualize change in correctness over time"
   ],
   "metadata": {
    "collapsed": false
   }
  },
  {
   "cell_type": "code",
   "execution_count": null,
   "outputs": [],
   "source": [
    "#get practice prediction data ready\n",
    "knnPracPred = agmlearn.LoadPrediction('knn3PracticePos.csv')\n",
    "rfPracPred = agmlearn.LoadPrediction('RFPracticePos.csv')\n",
    "gbmPracPred = agmlearn.LoadPrediction('GBMPracticePos.csv')"
   ],
   "metadata": {
    "collapsed": false,
    "pycharm": {
     "name": "#%%\n"
    }
   }
  },
  {
   "cell_type": "code",
   "execution_count": null,
   "outputs": [],
   "source": [
    "#determine participant to visualize\n",
    "PPcorrectness = pd.DataFrame()\n",
    "PPcorrectness['kNN'] = agmlearn.EvaluatePrediction(knnPracPred,groups=['PID'])['Correct']\n",
    "PPcorrectness['RF'] = agmlearn.EvaluatePrediction(rfPracPred,groups=['PID'])['Correct']\n",
    "PPcorrectness['GBM'] = agmlearn.EvaluatePrediction(gbmPracPred,groups=['PID'])['Correct']\n",
    "PPcorrectness.loc[(PPcorrectness['GBM']) & (PPcorrectness['kNN']!=True)]"
   ],
   "metadata": {
    "collapsed": false,
    "pycharm": {
     "name": "#%%\n"
    }
   }
  },
  {
   "cell_type": "code",
   "execution_count": null,
   "outputs": [],
   "source": [
    "for ID_to_look_at in PPcorrectness.loc[(PPcorrectness['RF']) & (PPcorrectness['kNN']!=True)].index:\n",
    "    PPpred = pd.DataFrame()\n",
    "    #ID_to_look_at = 18\n",
    "    PPpred['kNN'] = knnPracPred.loc[knnPracPred['PID']==ID_to_look_at]['Prediction']\n",
    "    PPpred['kNN_cumsum'] = np.cumsum(PPpred['kNN']==ID_to_look_at)\n",
    "    PPpred['RF'] = rfPracPred.loc[rfPracPred['PID']==ID_to_look_at]['Prediction']\n",
    "    PPpred['RF_cumsum'] = np.cumsum(PPpred['RF']==ID_to_look_at)\n",
    "    PPpred['GBM'] = gbmPracPred.loc[gbmPracPred['PID']==ID_to_look_at]['Prediction']\n",
    "    PPpred['GBM_cumsum'] = np.cumsum(PPpred['GBM']==ID_to_look_at)\n",
    "    PPpred['totalVotes'] = np.arange(len(PPpred),dtype=int)+1\n",
    "\n",
    "    for i in range(60):\n",
    "        if i!=ID_to_look_at:\n",
    "            PPpred[f'k_c_w{i}'] = np.cumsum(knnPracPred.loc[knnPracPred['PID']==ID_to_look_at]['Prediction']==i)\n",
    "            PPpred[f'r_c_w{i}'] = np.cumsum(rfPracPred.loc[rfPracPred['PID']==ID_to_look_at]['Prediction']==i)\n",
    "            PPpred[f'g_c_w{i}'] = np.cumsum(gbmPracPred.loc[gbmPracPred['PID']==ID_to_look_at]['Prediction']==i)\n",
    "    for t in 'krg':\n",
    "        PPpred[f'{t}_WorstContender'] = PPpred[[f'{t}_c_w{i}' for i in range(60) if i != ID_to_look_at]].max(axis=1)\n",
    "        PPpred[f'{t}_CurrentCorrect'] = Ppred\n",
    "\n",
    "    plt.plot(PPpred.totalVotes,PPpred.GBM_cumsum/PPpred.g_WorstContender,label='GBM',color='green')\n",
    "    plt.plot(PPpred.totalVotes,PPpred.kNN_cumsum/PPpred.k_WorstContender,label='kNN',color='blue')\n",
    "    plt.plot(PPpred.totalVotes,PPpred.RF_cumsum/PPpred.r_WorstContender,label='RF',color='goldenrod')\n",
    "\n",
    "    #a = PPpred.plot('totalVotes',['kNN_cumsum','RF_cumsum','GBM_cumsum'])\n",
    "    plt.plot(np.arange(len(PPpred)),np.ones(len(PPpred)),'--',color='gray',alpha=0.3,)\n",
    "    #plt.ylim((0,PPpred[['kNN_cumsum','RF_cumsum','GBM_cumsum']].max().max()*1.05))\n",
    "    plt.ylim((.1,100))\n",
    "    plt.xlabel('Total identifications')\n",
    "    plt.ylabel('|Correct ID| / |most voted incorrect ID|')\n",
    "    plt.yscale('log')\n",
    "    plt.title('Identification accuracy through practice session')\n",
    "    plt.legend()\n",
    "    plt.savefig(f'PracticeIDPlots/Position_Practice_PID={ID_to_look_at}.png')\n",
    "    plt.show()\n"
   ],
   "metadata": {
    "collapsed": false,
    "pycharm": {
     "name": "#%%\n"
    }
   }
  },
  {
   "cell_type": "code",
   "execution_count": null,
   "outputs": [],
   "source": [
    "CurrCorr = []\n",
    "for ID_to_look_at in range(60):\n",
    "    PPpred = pd.DataFrame()\n",
    "    #ID_to_look_at = 18\n",
    "    PPpred['kNN'] = knnPracPred.loc[knnPracPred['PID']==ID_to_look_at]['Prediction']\n",
    "    PPpred['kNN_cumsum'] = np.cumsum(PPpred['kNN']==ID_to_look_at)\n",
    "    PPpred['RF'] = rfPracPred.loc[rfPracPred['PID']==ID_to_look_at]['Prediction']\n",
    "    PPpred['RF_cumsum'] = np.cumsum(PPpred['RF']==ID_to_look_at)\n",
    "    PPpred['GBM'] = gbmPracPred.loc[gbmPracPred['PID']==ID_to_look_at]['Prediction']\n",
    "    PPpred['GBM_cumsum'] = np.cumsum(PPpred['GBM']==ID_to_look_at)\n",
    "    PPpred['totalVotes'] = np.arange(len(PPpred),dtype=int)+1\n",
    "\n",
    "    for i in range(60):\n",
    "        if i!=ID_to_look_at:\n",
    "            PPpred[f'k_c_w{i}'] = np.cumsum(knnPracPred.loc[knnPracPred['PID']==ID_to_look_at]['Prediction']==i)\n",
    "            PPpred[f'r_c_w{i}'] = np.cumsum(rfPracPred.loc[rfPracPred['PID']==ID_to_look_at]['Prediction']==i)\n",
    "            PPpred[f'g_c_w{i}'] = np.cumsum(gbmPracPred.loc[gbmPracPred['PID']==ID_to_look_at]['Prediction']==i)\n",
    "    for t,f in zip('krg',['kNN','RF','GBM']):\n",
    "        PPpred[f'{t}_WorstContender'] = PPpred[[f'{t}_c_w{i}' for i in range(60) if i != ID_to_look_at]].max(axis=1)\n",
    "        PPpred[f'{t}_CurrentCorrect'] = PPpred[f'{f}_cumsum']>PPpred[f'{t}_WorstContender']\n",
    "    \n",
    "    CurrCorr.append(PPpred[[f'{t}_CurrentCorrect' for t in 'krg']])\n",
    "    CurrCorr[-1].columns = [f'{t}_CurrentCorrect_{ID_to_look_at}' for t in 'krg']\n",
    "\n",
    "max([len(x) for x in CurrCorr])\n"
   ],
   "metadata": {
    "collapsed": false,
    "pycharm": {
     "name": "#%%\n"
    }
   }
  },
  {
   "cell_type": "code",
   "execution_count": null,
   "outputs": [],
   "source": [
    "CurrCorr[0]"
   ],
   "metadata": {
    "collapsed": false,
    "pycharm": {
     "name": "#%%\n"
    }
   }
  },
  {
   "cell_type": "code",
   "execution_count": null,
   "outputs": [],
   "source": [
    "a = []\n",
    "for c in CurrCorr:\n",
    "    a.append(c.reset_index())\n",
    "\n",
    "sumout = pd.DataFrame()\n",
    "for t in 'krg':\n",
    "    sumout[t] = pd.concat([x[f'{t}_CurrentCorrect_{i}'] for i,x in enumerate(a)],axis=1).fillna(method='ffill').sum(axis=1)\n",
    "sumout\n",
    "sumout.to_csv('IDsbytime_pos.csv')"
   ],
   "metadata": {
    "collapsed": false,
    "pycharm": {
     "name": "#%%\n"
    }
   }
  },
  {
   "cell_type": "code",
   "execution_count": null,
   "outputs": [],
   "source": [
    "plt.figure(figsize=(15,4))\n",
    "plt.plot(range(len(sumout)),sumout['g'],label='GBM',color='green')\n",
    "plt.plot(range(len(sumout)),sumout['k'],label='kNN',color='blue')\n",
    "plt.plot(range(len(sumout)),sumout['r'],label='RF',color='goldenrod')\n",
    "\n",
    "#a = PPpred.plot('totalVotes',['kNN_cumsum','RF_cumsum','GBM_cumsum'])\n",
    "#plt.plot(np.arange(len(PPpred)),np.ones(len(PPpred)),'--',color='gray',alpha=0.3,)\n",
    "#plt.ylim((0,PPpred[['kNN_cumsum','RF_cumsum','GBM_cumsum']].max().max()*1.05))\n",
    "#plt.ylim((.1,100))\n",
    "plt.xlabel('Seconds')\n",
    "plt.ylabel('Correctly identified participants')\n",
    "#plt.yscale('log')\n",
    "plt.title('Identification accuracy through practice session')\n",
    "plt.legend()\n",
    "plt.savefig(f'IdentificationAccThroughSession_position.png')\n",
    "plt.show()\n"
   ],
   "metadata": {
    "collapsed": false,
    "pycharm": {
     "name": "#%%\n"
    }
   }
  },
  {
   "cell_type": "code",
   "execution_count": null,
   "outputs": [],
   "source": [
    "VCurrCorr = []\n",
    "for ID_to_look_at in range(60):\n",
    "    PPpred = pd.DataFrame()\n",
    "    #ID_to_look_at = 18\n",
    "    PPpred['kNN'] = VknnPracPred.loc[VknnPracPred['PID']==ID_to_look_at]['Prediction']\n",
    "    PPpred['kNN_cumsum'] = np.cumsum(PPpred['kNN']==ID_to_look_at)\n",
    "    PPpred['RF'] = VrfPracPred.loc[VrfPracPred['PID']==ID_to_look_at]['Prediction']\n",
    "    PPpred['RF_cumsum'] = np.cumsum(PPpred['RF']==ID_to_look_at)\n",
    "    PPpred['GBM'] = VgbmPracPred.loc[VgbmPracPred['PID']==ID_to_look_at]['Prediction']\n",
    "    PPpred['GBM_cumsum'] = np.cumsum(PPpred['GBM']==ID_to_look_at)\n",
    "    PPpred['totalVotes'] = np.arange(len(PPpred),dtype=int)+1\n",
    "\n",
    "    for i in range(60):\n",
    "        if i!=ID_to_look_at:\n",
    "            PPpred[f'k_c_w{i}'] = np.cumsum(VknnPracPred.loc[VknnPracPred['PID']==ID_to_look_at]['Prediction']==i)\n",
    "            PPpred[f'r_c_w{i}'] = np.cumsum(VrfPracPred.loc[VrfPracPred['PID']==ID_to_look_at]['Prediction']==i)\n",
    "            PPpred[f'g_c_w{i}'] = np.cumsum(VgbmPracPred.loc[VgbmPracPred['PID']==ID_to_look_at]['Prediction']==i)\n",
    "    for t,f in zip('krg',['kNN','RF','GBM']):\n",
    "        PPpred[f'{t}_WorstContender'] = PPpred[[f'{t}_c_w{i}' for i in range(60) if i != ID_to_look_at]].max(axis=1)\n",
    "        PPpred[f'{t}_CurrentCorrect'] = PPpred[f'{f}_cumsum']>PPpred[f'{t}_WorstContender']\n",
    "    \n",
    "    VCurrCorr.append(PPpred[[f'{t}_CurrentCorrect' for t in 'krg']])\n",
    "    VCurrCorr[-1].columns = [f'{t}_CurrentCorrect_{ID_to_look_at}' for t in 'krg']\n",
    "\n",
    "max([len(x) for x in VCurrCorr])\n"
   ],
   "metadata": {
    "collapsed": false,
    "pycharm": {
     "name": "#%%\n"
    }
   }
  },
  {
   "cell_type": "code",
   "execution_count": null,
   "outputs": [],
   "source": [
    "v = []\n",
    "for c in VCurrCorr:\n",
    "    v.append(c.reset_index())\n",
    "\n",
    "sumout = pd.DataFrame()\n",
    "for t in 'krg':\n",
    "    sumout[t] = pd.concat([x[f'{t}_CurrentCorrect_{i}'] for i,x in enumerate(v)],axis=1).fillna(method='ffill').sum(axis=1)\n",
    "sumout\n",
    "sumout.to_csv('IDsbytime_vel.csv')"
   ],
   "metadata": {
    "collapsed": false,
    "pycharm": {
     "name": "#%%\n"
    }
   }
  },
  {
   "cell_type": "code",
   "execution_count": null,
   "outputs": [],
   "source": [
    "plt.figure(figsize=(15,4))\n",
    "plt.plot(range(len(sumout)),sumout['g'],label='GBM',color='green')\n",
    "plt.plot(range(len(sumout)),sumout['k'],label='kNN',color='blue')\n",
    "plt.plot(range(len(sumout)),sumout['r'],label='RF',color='goldenrod')\n",
    "\n",
    "#a = PPpred.plot('totalVotes',['kNN_cumsum','RF_cumsum','GBM_cumsum'])\n",
    "#plt.plot(np.arange(len(PPpred)),np.ones(len(PPpred)),'--',color='gray',alpha=0.3,)\n",
    "#plt.ylim((0,PPpred[['kNN_cumsum','RF_cumsum','GBM_cumsum']].max().max()*1.05))\n",
    "#plt.ylim((.1,100))\n",
    "plt.xlabel('Seconds')\n",
    "plt.ylabel('Correctly identified participants')\n",
    "#plt.yscale('log')\n",
    "plt.title('Identification accuracy through practice session')\n",
    "plt.legend()\n",
    "plt.savefig(f'IdentificationAccThroughSession_velocity.png')\n",
    "plt.show()"
   ],
   "metadata": {
    "collapsed": false,
    "pycharm": {
     "name": "#%%\n"
    }
   }
  },
  {
   "cell_type": "code",
   "execution_count": null,
   "outputs": [],
   "source": [
    "currcorrfinal = pd.DataFrame\n",
    "for t in 'krg':\n",
    "    currcorrfinal[t] = [pd.concat(CurrCorr[f{t}_CurrentCorrect_{i}],ignore_index=True,axis=1).fillna(method='ffill').sum(axis=1)\n"
   ],
   "metadata": {
    "collapsed": false,
    "pycharm": {
     "name": "#%%\n"
    }
   }
  }
 ],
 "metadata": {
  "kernelspec": {
   "name": "python3",
   "language": "python",
   "display_name": "Python 3 (ipykernel)"
  },
  "language_info": {
   "codemirror_mode": {
    "name": "ipython",
    "version": 3
   },
   "file_extension": ".py",
   "mimetype": "text/x-python",
   "name": "python",
   "nbconvert_exporter": "python",
   "pygments_lexer": "ipython3",
   "version": "3.8.2"
  }
 },
 "nbformat": 4,
 "nbformat_minor": 4
}